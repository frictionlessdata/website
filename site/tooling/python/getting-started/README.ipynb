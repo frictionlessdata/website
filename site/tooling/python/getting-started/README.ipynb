{
 "cells": [
  {
   "cell_type": "markdown",
   "metadata": {},
   "source": [
    "# Getting Started\n",
    "\n",
    "Let's get started with Frictionless! We will learn how to install and use the framework. The simple example below will showcase the framework's basic functionality.\n",
    "\n",
    "## Installation\n",
    "\n",
    "> Versioning follows the [SemVer Standard](https://semver.org/)"
   ]
  },
  {
   "cell_type": "markdown",
   "metadata": {},
   "source": [
    "```\n",
    "! pip install frictionless\n",
    "# pip install frictionless[sql] - to install a core plugin\n",
    "```\n"
   ]
  },
  {
   "cell_type": "markdown",
   "metadata": {},
   "source": [
    "By default, the framework comes with the support of CSV, Excel, and JSON formats. Please use the command above to add support for SQL, Pandas, Html, and others. Usually, you don't need to think about it in advance - frictionless will show a useful error on a missing plugin with installation instruction.\n",
    "\n",
    "## Usage\n",
    "\n",
    "The framework can be used:\n",
    "- as a Python library\n",
    "- as a command-line interface\n",
    "- as a restful API server\n",
    "\n",
    "For example, all the examples below do the same thing:"
   ]
  },
  {
   "cell_type": "code",
   "execution_count": 1,
   "metadata": {
    "execution": {
     "iopub.execute_input": "2020-12-02T10:42:09.663207Z",
     "iopub.status.busy": "2020-12-02T10:42:09.661635Z",
     "iopub.status.idle": "2020-12-02T10:42:10.305450Z",
     "shell.execute_reply": "2020-12-02T10:42:10.304136Z"
    }
   },
   "outputs": [],
   "source": [
    "from frictionless import extract\n",
    "\n",
    "rows = extract('data/table.csv')\n",
    "# CLI: $ frictionless extract data/table.csv\n",
    "# API: [POST] /extract {\"source': 'data/table.csv\"}"
   ]
  },
  {
   "cell_type": "markdown",
   "metadata": {},
   "source": [
    "All these interfaces are close as much as possible regarding naming and the way you interact with them. Usually, it's straightforward to translate e.g., Python code to a command-line call. Frictionless provides code completion for Python and command-line, which should help to get useful hints in real-time.\n",
    "\n",
    "Arguments follow this naming rule:\n",
    "- for Python interfaces, they are lowercased, e.g. `missing_values`\n",
    "- within dictionaries or JSON objects they are camel-cased, e.g. `missingValues`\n",
    "- in a command line they use dashes, e.g. `--missing-values`\n",
    "\n",
    "To get documentation for a command-line interface just use the `--help` flag:"
   ]
  },
  {
   "cell_type": "markdown",
   "metadata": {},
   "source": [
    "```\n",
    "$ frictionless --help\n",
    "$ frictionless describe --help\n",
    "$ frictionless extract --help\n",
    "$ frictionless validate --help\n",
    "$ frictionless transform --help\n",
    "```\n"
   ]
  },
  {
   "cell_type": "markdown",
   "metadata": {},
   "source": [
    "## Example\n",
    "\n",
    "> All the examples use the data folder from this repository\n",
    "\n",
    "We will take a very dirty data file:"
   ]
  },
  {
   "cell_type": "code",
   "execution_count": 2,
   "metadata": {
    "execution": {
     "iopub.execute_input": "2020-12-02T10:42:10.316060Z",
     "iopub.status.busy": "2020-12-02T10:42:10.311169Z",
     "iopub.status.idle": "2020-12-02T10:42:10.432733Z",
     "shell.execute_reply": "2020-12-02T10:42:10.433386Z"
    }
   },
   "outputs": [
    {
     "name": "stdout",
     "output_type": "stream",
     "text": [
      "id,name,,name\r\n",
      "1,english\r\n",
      "1,english\r\n",
      "\r\n",
      "2,german,1,2,3\r\n"
     ]
    }
   ],
   "source": [
    "! cat data/invalid.csv"
   ]
  },
  {
   "cell_type": "markdown",
   "metadata": {},
   "source": [
    "First of all, let's infer the metadata. We can save and edit it to provide useful information about the table:\n",
    "\n",
    "> This output is in [YAML](https://yaml.org/), it is a default Frictionless output format."
   ]
  },
  {
   "cell_type": "code",
   "execution_count": 3,
   "metadata": {
    "execution": {
     "iopub.execute_input": "2020-12-02T10:42:10.443851Z",
     "iopub.status.busy": "2020-12-02T10:42:10.442457Z",
     "iopub.status.idle": "2020-12-02T10:42:11.651967Z",
     "shell.execute_reply": "2020-12-02T10:42:11.650769Z"
    }
   },
   "outputs": [
    {
     "name": "stdout",
     "output_type": "stream",
     "text": [
      "---\u001b[0m\r\n",
      "\u001b[1mmetadata: data/invalid.csv\u001b[0m\r\n",
      "---\u001b[0m\r\n",
      "\u001b[0m\r\n",
      "compression: 'no'\r\n",
      "compressionPath: ''\r\n",
      "control:\r\n",
      "  newline: ''\r\n",
      "dialect: {}\r\n",
      "encoding: utf-8\r\n",
      "format: csv\r\n",
      "hashing: md5\r\n",
      "name: invalid\r\n",
      "path: data/invalid.csv\r\n",
      "profile: tabular-data-resource\r\n",
      "query: {}\r\n",
      "schema:\r\n",
      "  fields:\r\n",
      "    - name: id\r\n",
      "      type: integer\r\n",
      "    - name: name\r\n",
      "      type: string\r\n",
      "    - name: field3\r\n",
      "      type: integer\r\n",
      "    - name: name2\r\n",
      "      type: integer\r\n",
      "scheme: file\r\n",
      "stats:\r\n",
      "  bytes: 50\r\n",
      "  fields: 4\r\n",
      "  hash: 8c73c3d9d59088dcb2508e0b348bf8a8\r\n",
      "  rows: 4\u001b[0m\r\n",
      "\u001b[0m\r\n"
     ]
    }
   ],
   "source": [
    "! frictionless describe data/invalid.csv"
   ]
  },
  {
   "cell_type": "markdown",
   "metadata": {},
   "source": [
    "Secondly, we can extract a normalized data. It conforms to the inferred schema from above e.g., the dimension is fixed, and bad cells are omitted:"
   ]
  },
  {
   "cell_type": "code",
   "execution_count": 4,
   "metadata": {
    "execution": {
     "iopub.execute_input": "2020-12-02T10:42:11.663313Z",
     "iopub.status.busy": "2020-12-02T10:42:11.660387Z",
     "iopub.status.idle": "2020-12-02T10:42:12.994603Z",
     "shell.execute_reply": "2020-12-02T10:42:12.991577Z"
    }
   },
   "outputs": [
    {
     "name": "stdout",
     "output_type": "stream",
     "text": [
      "---\u001b[0m\r\n",
      "\u001b[1mdata: data/invalid.csv\u001b[0m\r\n",
      "---\u001b[0m\r\n",
      "\u001b[0m\r\n",
      "====  =======  ======  =====\r\n",
      "id    name     field3  name2\r\n",
      "====  =======  ======  =====\r\n",
      "   1  english  None    None \r\n",
      "   1  english  None    None \r\n",
      "None  None     None    None \r\n",
      "   2  german        1      2\r\n",
      "====  =======  ======  =====\r\n",
      "\u001b[0m\r\n"
     ]
    }
   ],
   "source": [
    "! frictionless extract data/invalid.csv"
   ]
  },
  {
   "cell_type": "markdown",
   "metadata": {},
   "source": [
    "Last but not least, let's get a validation report. This report will help us to fix all these errors as comprehensive information is provided for every tabular problem:"
   ]
  },
  {
   "cell_type": "code",
   "execution_count": 5,
   "metadata": {
    "execution": {
     "iopub.execute_input": "2020-12-02T10:42:13.002289Z",
     "iopub.status.busy": "2020-12-02T10:42:13.001389Z",
     "iopub.status.idle": "2020-12-02T10:42:14.152870Z",
     "shell.execute_reply": "2020-12-02T10:42:14.154226Z"
    }
   },
   "outputs": [
    {
     "name": "stdout",
     "output_type": "stream",
     "text": [
      "---\u001b[0m\r\n",
      "\u001b[1minvalid: data/invalid.csv\u001b[0m\r\n",
      "---\u001b[0m\r\n",
      "\u001b[0m\r\n",
      "====  =====  ================  ================================================================================================\r\n",
      "row   field  code              message                                                                                         \r\n",
      "====  =====  ================  ================================================================================================\r\n",
      "None      3  blank-header      Header in field at position \"3\" is blank                                                        \r\n",
      "None      4  duplicate-header  Header \"name\" in field at position \"4\" is duplicated to header in another field: at position \"2\"\r\n",
      "   2      3  missing-cell      Row at position \"2\" has a missing cell in field \"field3\" at position \"3\"                        \r\n",
      "   2      4  missing-cell      Row at position \"2\" has a missing cell in field \"name2\" at position \"4\"                         \r\n",
      "   3      3  missing-cell      Row at position \"3\" has a missing cell in field \"field3\" at position \"3\"                        \r\n",
      "   3      4  missing-cell      Row at position \"3\" has a missing cell in field \"name2\" at position \"4\"                         \r\n",
      "   4  None   blank-row         Row at position \"4\" is completely blank                                                         \r\n",
      "   5      5  extra-cell        Row at position \"5\" has an extra value in field at position \"5\"                                 \r\n",
      "====  =====  ================  ================================================================================================\r\n",
      "\u001b[0m\r\n"
     ]
    }
   ],
   "source": [
    "! frictionless validate data/invalid.csv"
   ]
  },
  {
   "cell_type": "markdown",
   "metadata": {},
   "source": [
    "Now having all this information:\n",
    "- we can clean up the table to ensure the data quality\n",
    "- we can use the metadata to describe and share the dataset\n",
    "- we can include the validation into our workflow to guarantee the validity\n",
    "- and much more: don't hesitate and read the following documentation!"
   ]
  }
 ],
 "metadata": {
  "language_info": {
   "codemirror_mode": {
    "name": "ipython",
    "version": 3
   },
   "file_extension": ".py",
   "mimetype": "text/x-python",
   "name": "python",
   "nbconvert_exporter": "python",
   "pygments_lexer": "ipython3",
   "version": "3.8.0"
  }
 },
 "nbformat": 4,
 "nbformat_minor": 4
}
