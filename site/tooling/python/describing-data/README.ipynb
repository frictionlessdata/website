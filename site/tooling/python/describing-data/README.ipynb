{
 "cells": [
  {
   "cell_type": "markdown",
   "metadata": {},
   "source": [
    "# Describing Data\n",
    "\n",
    "What does \"describing data\" mean?\n",
    "\n",
    "Frictionless is a project based on the [Frictionless Data Specifications](https://specs.frictionlessdata.io/). It's a set of patterns for creating metadata, including Data Package (for datasets), Data Resource (for files), and Table Schema (for tables).\n",
    "\n",
    "In other words, \"describing data\" means creating metadata for your data files. The reason for having metadata is simple: usually, data files themselves are not capable of providing enough information. For example, if you have a data table in a CSV format, it misses a few critical pieces of information:\n",
    "- meaning of the fields e.g., what the `size` field means; is it clothes size or file size\n",
    "- data types information e.g., is this field a string or an integer\n",
    "- data constraints e.g., the minimum temperature for your measurements\n",
    "- data relations e.g., identifiers connection\n",
    "- and others"
   ]
  },
  {
   "cell_type": "markdown",
   "metadata": {},
   "source": [
    "```\n",
    "! pip install frictionless\n",
    "```\n"
   ]
  },
  {
   "cell_type": "markdown",
   "metadata": {},
   "source": [
    "For a dataset, there is even more information that can be provided like general dataset purpose, information about data sources, list of authors, and many more. Of course, when there are many tabular files, relational rules can be very important. Usually, there are foreign keys ensuring the integrity of the dataset; for example, there is some reference table containing country names and other tables using it as a reference. Data in this form is called \"normalized data\" and it occurs very often in scientific and another kind of research.\n",
    "\n",
    "Having a general understanding of what is \"data describing\", we can now articulate why it's important:\n",
    "- **data validation**; metadata helps to reveal problems in your data on the early stages of your workflow\n",
    "- **data publication**; metadata provides additional information that your data can't include\n",
    "\n",
    "These are not the only two pros of having metadata but they are two the most important. Please continue reading to learn how Frictionless helps to achieve these advantages describing your data.\n",
    "\n",
    "## Describe Functions\n",
    "\n",
    "The `describe` functions are the main tool for data describing. In many cases, this high-level interface is enough for data exploration and other needs.\n",
    "\n",
    "The frictionless framework provides 4 different `describe` functions in Python:\n",
    "- `describe`: it will detect the source type and return Data Resource or Data Package metadata\n",
    "- `describe_schema`: it will always return Table Schema metadata\n",
    "- `describe_resource`: it will always return Data Resource metadata\n",
    "- `describe_package`: it will always return Data Package metadata\n",
    "\n",
    "In command-line, there is only 1 command but there is a flag to adjust the behavior:"
   ]
  },
  {
   "cell_type": "markdown",
   "metadata": {},
   "source": [
    "```\n",
    "! frictionless describe\n",
    "! frictionless describe --source-type schema\n",
    "! frictionless describe --source-type resource\n",
    "! frictionless describe --source-type package\n",
    "```\n"
   ]
  },
  {
   "cell_type": "markdown",
   "metadata": {},
   "source": [
    "For example, if we want a Data Package descriptor for a single file:"
   ]
  },
  {
   "cell_type": "code",
   "execution_count": 1,
   "metadata": {
    "execution": {
     "iopub.execute_input": "2020-12-02T10:41:37.562204Z",
     "iopub.status.busy": "2020-12-02T10:41:37.560774Z",
     "iopub.status.idle": "2020-12-02T10:41:38.657729Z",
     "shell.execute_reply": "2020-12-02T10:41:38.659097Z"
    }
   },
   "outputs": [
    {
     "name": "stdout",
     "output_type": "stream",
     "text": [
      "---\u001b[0m\r\n",
      "\u001b[1mmetadata: data/table.csv\u001b[0m\r\n",
      "---\u001b[0m\r\n",
      "\u001b[0m\r\n",
      "profile: data-package\r\n",
      "resources:\r\n",
      "  - compression: 'no'\r\n",
      "    compressionPath: ''\r\n",
      "    control:\r\n",
      "      newline: ''\r\n",
      "    dialect: {}\r\n",
      "    encoding: utf-8\r\n",
      "    format: csv\r\n",
      "    hashing: md5\r\n",
      "    name: table\r\n",
      "    path: data/table.csv\r\n",
      "    profile: tabular-data-resource\r\n",
      "    query: {}\r\n",
      "    schema:\r\n",
      "      fields:\r\n",
      "        - name: id\r\n",
      "          type: integer\r\n",
      "        - name: name\r\n",
      "          type: string\r\n",
      "    scheme: file\r\n",
      "    stats:\r\n",
      "      bytes: 30\r\n",
      "      fields: 2\r\n",
      "      hash: 6c2c61dd9b0e9c6876139a449ed87933\r\n",
      "      rows: 2\u001b[0m\r\n",
      "\u001b[0m\r\n"
     ]
    }
   ],
   "source": [
    "! frictionless describe data/table.csv --source-type package"
   ]
  },
  {
   "cell_type": "markdown",
   "metadata": {},
   "source": [
    "### Describing Schema\n",
    "\n",
    "Table Schema is a specification for providing a \"schema\" (similar to a database schema) for tabular data. This information includes the expected type of each value in a column (\"string\", \"number\", \"date\", etc.), constraints on the value (\"this string can only be at most 10 characters long\"), and the expected format of the data (\"this field should only contain strings that look like email addresses\"). Table Schema can also specify relations between tables.\n",
    "\n",
    "We're going to use this file for this section examples. For this guide, we use solely CSV files because of their demonstrativeness but in-general Frictionless can handle Excel, JSON, SQL, and many other formats:"
   ]
  },
  {
   "cell_type": "code",
   "execution_count": 2,
   "metadata": {
    "execution": {
     "iopub.execute_input": "2020-12-02T10:41:38.672303Z",
     "iopub.status.busy": "2020-12-02T10:41:38.671088Z",
     "iopub.status.idle": "2020-12-02T10:41:38.795302Z",
     "shell.execute_reply": "2020-12-02T10:41:38.793488Z"
    }
   },
   "outputs": [
    {
     "name": "stdout",
     "output_type": "stream",
     "text": [
      "id,neighbor_id,name,population\r\n",
      "1,,Britain,67\r\n",
      "2,3,France,67\r\n",
      "3,2,Germany,83\r\n",
      "4,5,Italy,60\r\n",
      "5,4,Spain,47\r\n"
     ]
    }
   ],
   "source": [
    "! cat data/country-1.csv"
   ]
  },
  {
   "cell_type": "markdown",
   "metadata": {},
   "source": [
    "Let's get Table Schema using Frictionless framework:"
   ]
  },
  {
   "cell_type": "code",
   "execution_count": 3,
   "metadata": {
    "execution": {
     "iopub.execute_input": "2020-12-02T10:41:38.801915Z",
     "iopub.status.busy": "2020-12-02T10:41:38.801145Z",
     "iopub.status.idle": "2020-12-02T10:41:39.375710Z",
     "shell.execute_reply": "2020-12-02T10:41:39.374755Z"
    }
   },
   "outputs": [],
   "source": [
    "from frictionless import describe_schema\n",
    "\n",
    "schema = describe_schema(\"data/country-1.csv\")\n",
    "schema.to_yaml(\"tmp/country.schema-simple.yaml\")"
   ]
  },
  {
   "cell_type": "markdown",
   "metadata": {},
   "source": [
    "The high-level functions of Frictionless operate on dataset and resource levels so we have to use Python a little of Python programming to get schema information. Below we will show how to use a command-line interface for similar tasks."
   ]
  },
  {
   "cell_type": "code",
   "execution_count": 4,
   "metadata": {
    "execution": {
     "iopub.execute_input": "2020-12-02T10:41:39.385376Z",
     "iopub.status.busy": "2020-12-02T10:41:39.381027Z",
     "iopub.status.idle": "2020-12-02T10:41:39.504939Z",
     "shell.execute_reply": "2020-12-02T10:41:39.505419Z"
    }
   },
   "outputs": [
    {
     "name": "stdout",
     "output_type": "stream",
     "text": [
      "fields:\r\n",
      "  - name: id\r\n",
      "    type: integer\r\n",
      "  - name: neighbor_id\r\n",
      "    type: integer\r\n",
      "  - name: name\r\n",
      "    type: string\r\n",
      "  - name: population\r\n",
      "    type: integer\r\n"
     ]
    }
   ],
   "source": [
    "! cat tmp/country.schema-simple.yaml"
   ]
  },
  {
   "cell_type": "markdown",
   "metadata": {},
   "source": [
    "As we can see, we were able to get infer basic metadata of our data file but describing data doesn't end here, we can  provide additional information we discussed earlier:"
   ]
  },
  {
   "cell_type": "code",
   "execution_count": 5,
   "metadata": {
    "execution": {
     "iopub.execute_input": "2020-12-02T10:41:39.526833Z",
     "iopub.status.busy": "2020-12-02T10:41:39.524819Z",
     "iopub.status.idle": "2020-12-02T10:41:39.534689Z",
     "shell.execute_reply": "2020-12-02T10:41:39.535630Z"
    }
   },
   "outputs": [],
   "source": [
    "from frictionless import describe_schema\n",
    "\n",
    "schema = describe_schema(\"data/country-1.csv\")\n",
    "schema.get_field(\"id\").title = \"Identifier\"\n",
    "schema.get_field(\"neighbor_id\").title = \"Identifier of the neighbor\"\n",
    "schema.get_field(\"name\").title = \"Name of the country\"\n",
    "schema.get_field(\"population\").title = \"Population\"\n",
    "schema.get_field(\"population\").description = \"According to the year 2020's data\"\n",
    "schema.get_field(\"population\").constraints[\"minimum\"] = 0\n",
    "schema.foreign_keys.append(\n",
    "    {\"fields\": [\"neighbor_id\"], \"reference\": {\"resource\": \"\", \"fields\": [\"id\"]}}\n",
    ")\n",
    "schema.to_yaml(\"tmp/country.schema.yaml\")"
   ]
  },
  {
   "cell_type": "markdown",
   "metadata": {},
   "source": [
    "Let's break it down:\n",
    "- we added a title for all the fields\n",
    "- we added a description to the \"Population\" field; the year information can be critical to interpret the data\n",
    "- we set a constraint to the \"Population\" field because it can't be less than 0\n",
    "- we added a foreign key saying that \"Identifier of the neighbor\" should present in the \"Identifier\" field"
   ]
  },
  {
   "cell_type": "code",
   "execution_count": 6,
   "metadata": {
    "execution": {
     "iopub.execute_input": "2020-12-02T10:41:39.542777Z",
     "iopub.status.busy": "2020-12-02T10:41:39.541777Z",
     "iopub.status.idle": "2020-12-02T10:41:39.663842Z",
     "shell.execute_reply": "2020-12-02T10:41:39.662804Z"
    }
   },
   "outputs": [
    {
     "name": "stdout",
     "output_type": "stream",
     "text": [
      "fields:\r\n",
      "  - name: id\r\n",
      "    title: Identifier\r\n",
      "    type: integer\r\n",
      "  - name: neighbor_id\r\n",
      "    title: Identifier of the neighbor\r\n",
      "    type: integer\r\n",
      "  - name: name\r\n",
      "    title: Name of the country\r\n",
      "    type: string\r\n",
      "  - constraints:\r\n",
      "      minimum: 0\r\n",
      "    description: According to the year 2020's data\r\n",
      "    name: population\r\n",
      "    title: Population\r\n",
      "    type: integer\r\n",
      "foreignKeys:\r\n",
      "  - fields:\r\n",
      "      - neighbor_id\r\n",
      "    reference:\r\n",
      "      fields:\r\n",
      "        - id\r\n",
      "      resource: ''\r\n"
     ]
    }
   ],
   "source": [
    "! cat tmp/country.schema.yaml"
   ]
  },
  {
   "cell_type": "markdown",
   "metadata": {},
   "source": [
    "Later we're going to show how to use the schema we created to ensure the validity of your data; in the next few sections, we will focus on Data Resource and Data Package metadata.\n",
    "\n",
    "To continue learning about table schemas please read:\n",
    "- [Table Schema Spec](https://specs.frictionlessdata.io/table-schema/)\n",
    "- API Reference: Schema\n",
    "\n",
    "\n",
    "### Describing Resource\n",
    "\n",
    "The Data Resource format describes a data resource such as an individual file or table.\n",
    "The essence of a Data Resource is a locator for the data it describes.\n",
    "A range of other properties can be declared to provide a richer set of metadata.\n",
    "\n",
    "For this section, we will use the file that is slightly more complex to handle. For some reason, cells are separated by the \";\" char and there is a comment on the top:"
   ]
  },
  {
   "cell_type": "code",
   "execution_count": 7,
   "metadata": {
    "execution": {
     "iopub.execute_input": "2020-12-02T10:41:39.671958Z",
     "iopub.status.busy": "2020-12-02T10:41:39.671146Z",
     "iopub.status.idle": "2020-12-02T10:41:39.796887Z",
     "shell.execute_reply": "2020-12-02T10:41:39.795360Z"
    }
   },
   "outputs": [
    {
     "name": "stdout",
     "output_type": "stream",
     "text": [
      "# Author: the scientist\r\n",
      "id;neighbor_id;name;population\r\n",
      "1;;Britain;67\r\n",
      "2;3;France;67\r\n",
      "3;2;Germany;83\r\n",
      "4;5;Italy;60\r\n",
      "5;4;Spain;47\r\n"
     ]
    }
   ],
   "source": [
    "! cat data/country-2.csv"
   ]
  },
  {
   "cell_type": "markdown",
   "metadata": {},
   "source": [
    "Let's describe it this time using the command-line interface:"
   ]
  },
  {
   "cell_type": "code",
   "execution_count": 8,
   "metadata": {
    "execution": {
     "iopub.execute_input": "2020-12-02T10:41:39.812218Z",
     "iopub.status.busy": "2020-12-02T10:41:39.810443Z",
     "iopub.status.idle": "2020-12-02T10:41:40.921582Z",
     "shell.execute_reply": "2020-12-02T10:41:40.922205Z"
    }
   },
   "outputs": [
    {
     "name": "stdout",
     "output_type": "stream",
     "text": [
      "---\u001b[0m\r\n",
      "\u001b[1mmetadata: data/country-2.csv\u001b[0m\r\n",
      "---\u001b[0m\r\n",
      "\u001b[0m\r\n",
      "compression: 'no'\r\n",
      "compressionPath: ''\r\n",
      "control:\r\n",
      "  newline: ''\r\n",
      "dialect: {}\r\n",
      "encoding: utf-8\r\n",
      "format: csv\r\n",
      "hashing: md5\r\n",
      "name: country-2\r\n",
      "path: data/country-2.csv\r\n",
      "profile: tabular-data-resource\r\n",
      "query: {}\r\n",
      "schema:\r\n",
      "  fields:\r\n",
      "    - name: '# Author: the scientist'\r\n",
      "      type: string\r\n",
      "scheme: file\r\n",
      "stats:\r\n",
      "  bytes: 124\r\n",
      "  fields: 1\r\n",
      "  hash: 88e1901235a8cf35da4d28a1cdf415e5\r\n",
      "  rows: 6\u001b[0m\r\n",
      "\u001b[0m\r\n"
     ]
    }
   ],
   "source": [
    "! frictionless describe data/country-2.csv"
   ]
  },
  {
   "cell_type": "markdown",
   "metadata": {},
   "source": [
    "OK, that's clearly wrong. As we have seen in the \"Introductory Guide\" Frictionless is capable of inferring some complicated cases' metadata but our table is too weird for it. We need to program it:"
   ]
  },
  {
   "cell_type": "code",
   "execution_count": 9,
   "metadata": {
    "execution": {
     "iopub.execute_input": "2020-12-02T10:41:40.937214Z",
     "iopub.status.busy": "2020-12-02T10:41:40.934069Z",
     "iopub.status.idle": "2020-12-02T10:41:40.956312Z",
     "shell.execute_reply": "2020-12-02T10:41:40.957430Z"
    }
   },
   "outputs": [],
   "source": [
    "from frictionless import describe_resource, Schema\n",
    "\n",
    "resource = describe_resource(\"data/country-2.csv\")\n",
    "resource.dialect.header_rows = [2]\n",
    "resource.dialect.delimiter = \";\"\n",
    "resource.schema = Schema(\"tmp/country.schema.yaml\")\n",
    "resource.to_yaml(\"tmp/country.resource.yaml\")"
   ]
  },
  {
   "cell_type": "markdown",
   "metadata": {},
   "source": [
    "So what we are doing here:\n",
    "- we set header rows to be row number 2; as humans, we can easily see it\n",
    "- we set CSV Delimiter to be \";\"; this file in not really usual CSV for some reason\n",
    "- we reuse the schema we created earlier as the data has the same structure and meaning"
   ]
  },
  {
   "cell_type": "code",
   "execution_count": 10,
   "metadata": {
    "execution": {
     "iopub.execute_input": "2020-12-02T10:41:40.964381Z",
     "iopub.status.busy": "2020-12-02T10:41:40.963498Z",
     "iopub.status.idle": "2020-12-02T10:41:41.084884Z",
     "shell.execute_reply": "2020-12-02T10:41:41.085898Z"
    }
   },
   "outputs": [
    {
     "name": "stdout",
     "output_type": "stream",
     "text": [
      "compression: 'no'\r\n",
      "compressionPath: ''\r\n",
      "control:\r\n",
      "  newline: ''\r\n",
      "dialect:\r\n",
      "  delimiter: ;\r\n",
      "  headerRows:\r\n",
      "    - 2\r\n",
      "encoding: utf-8\r\n",
      "format: csv\r\n",
      "hashing: md5\r\n",
      "name: country-2\r\n",
      "path: data/country-2.csv\r\n",
      "profile: tabular-data-resource\r\n",
      "query: {}\r\n",
      "schema:\r\n",
      "  fields:\r\n",
      "    - name: id\r\n",
      "      title: Identifier\r\n",
      "      type: integer\r\n",
      "    - name: neighbor_id\r\n",
      "      title: Identifier of the neighbor\r\n",
      "      type: integer\r\n",
      "    - name: name\r\n",
      "      title: Name of the country\r\n",
      "      type: string\r\n",
      "    - constraints:\r\n",
      "        minimum: 0\r\n",
      "      description: According to the year 2020's data\r\n",
      "      name: population\r\n",
      "      title: Population\r\n",
      "      type: integer\r\n",
      "  foreignKeys:\r\n",
      "    - fields:\r\n",
      "        - neighbor_id\r\n",
      "      reference:\r\n",
      "        fields:\r\n",
      "          - id\r\n",
      "        resource: ''\r\n",
      "scheme: file\r\n",
      "stats:\r\n",
      "  bytes: 124\r\n",
      "  fields: 1\r\n",
      "  hash: 88e1901235a8cf35da4d28a1cdf415e5\r\n",
      "  rows: 6\r\n"
     ]
    }
   ],
   "source": [
    "! cat tmp/country.resource.yaml"
   ]
  },
  {
   "cell_type": "markdown",
   "metadata": {},
   "source": [
    "Our resource metadata includes the schema metadata we created earlier but also it has:\n",
    "- general information about the file's schema, format, and compression\n",
    "- information about CSV Dialect helping software understand how to read it\n",
    "- checksum information as though hash, bytes, and rows\n",
    "\n",
    "But the most important difference is that resource metadata contains the `path` property. It conceptually distinct Data Resource specification from Table Schema specification because while a Table Schema descriptor can describe a class of data files, a Data Resource descriptor describes the only one exact data file, `data/country-2.csv` in our case.\n",
    "\n",
    "Using programming terminology we could say that:\n",
    "- Table Schema descriptor is abstract (for a class of files)\n",
    "- Data Resource descriptor is concrete (for an individual file)\n",
    "\n",
    "We will show the practical difference in the \"Using Metadata\" section but in the next section, we will overview the Data Package specification.\n",
    "\n",
    "To continue learning about data resources please read:\n",
    "- [Data Resource Spec](https://specs.frictionlessdata.io/data-resource/)\n",
    "- API Reference: Resource\n",
    "\n",
    "### Describing Package\n",
    "\n",
    "A Data Package consists of:\n",
    "- Metadata that describes the structure and contents of the package\n",
    "- Resources such as data files that form the contents of the package\n",
    "The Data Package metadata is stored in a \"descriptor\". This descriptor is what makes a collection of data a Data Package. The structure of this descriptor is the main content of the specification below.\n",
    "\n",
    "In addition to this descriptor, a data package will include other resources such as data files. The Data Package specification does NOT impose any requirements on their form or structure and can, therefore, be used for packaging any kind of data.\n",
    "\n",
    "The data included in the package may be provided as:\n",
    "- Files bundled locally with the package descriptor\n",
    "- Remote resources, referenced by URL\n",
    "- \"Inline\" data (see below) which is included directly in the descriptor\n",
    "\n",
    "For this section, we will use the following files:"
   ]
  },
  {
   "cell_type": "code",
   "execution_count": 11,
   "metadata": {
    "execution": {
     "iopub.execute_input": "2020-12-02T10:41:41.094687Z",
     "iopub.status.busy": "2020-12-02T10:41:41.093856Z",
     "iopub.status.idle": "2020-12-02T10:41:41.221935Z",
     "shell.execute_reply": "2020-12-02T10:41:41.221189Z"
    }
   },
   "outputs": [
    {
     "name": "stdout",
     "output_type": "stream",
     "text": [
      "id,capital_id,name,population\r\n",
      "1,1,Britain,67\r\n",
      "2,3,France,67\r\n",
      "3,2,Germany,83\r\n",
      "4,5,Italy,60\r\n",
      "5,4,Spain,47\r\n"
     ]
    }
   ],
   "source": [
    "! cat data/country-3.csv"
   ]
  },
  {
   "cell_type": "code",
   "execution_count": 12,
   "metadata": {
    "execution": {
     "iopub.execute_input": "2020-12-02T10:41:41.232458Z",
     "iopub.status.busy": "2020-12-02T10:41:41.228358Z",
     "iopub.status.idle": "2020-12-02T10:41:41.346794Z",
     "shell.execute_reply": "2020-12-02T10:41:41.346190Z"
    }
   },
   "outputs": [
    {
     "name": "stdout",
     "output_type": "stream",
     "text": [
      "id,name\r\n",
      "1,London\r\n",
      "2,Berlin\r\n",
      "3,Paris\r\n",
      "4,Madrid\r\n",
      "5,Rome\r\n"
     ]
    }
   ],
   "source": [
    "! cat data/capital-3.csv"
   ]
  },
  {
   "cell_type": "markdown",
   "metadata": {},
   "source": [
    "First of all, let's describe our package using the command-line interface. We did it before for a resource but now we're going to use a glob pattern to indicate that there are multiple files:"
   ]
  },
  {
   "cell_type": "code",
   "execution_count": 13,
   "metadata": {
    "execution": {
     "iopub.execute_input": "2020-12-02T10:41:41.356447Z",
     "iopub.status.busy": "2020-12-02T10:41:41.353152Z",
     "iopub.status.idle": "2020-12-02T10:41:42.638334Z",
     "shell.execute_reply": "2020-12-02T10:41:42.637783Z"
    }
   },
   "outputs": [
    {
     "name": "stdout",
     "output_type": "stream",
     "text": [
      "---\u001b[0m\r\n",
      "\u001b[1mmetadata: data/capital-3.csv data/country-3.csv\u001b[0m\r\n",
      "---\u001b[0m\r\n",
      "\u001b[0m\r\n",
      "profile: data-package\r\n",
      "resources:\r\n",
      "  - compression: 'no'\r\n",
      "    compressionPath: ''\r\n",
      "    control:\r\n",
      "      newline: ''\r\n",
      "    dialect: {}\r\n",
      "    encoding: utf-8\r\n",
      "    format: csv\r\n",
      "    hashing: md5\r\n",
      "    name: capital-3\r\n",
      "    path: data/capital-3.csv\r\n",
      "    profile: tabular-data-resource\r\n",
      "    query: {}\r\n",
      "    schema:\r\n",
      "      fields:\r\n",
      "        - name: id\r\n",
      "          type: integer\r\n",
      "        - name: name\r\n",
      "          type: string\r\n",
      "    scheme: file\r\n",
      "    stats:\r\n",
      "      bytes: 50\r\n",
      "      fields: 2\r\n",
      "      hash: e7b6592a0a4356ba834e4bf1c8e8c7f8\r\n",
      "      rows: 5\r\n",
      "  - compression: 'no'\r\n",
      "    compressionPath: ''\r\n",
      "    control:\r\n",
      "      newline: ''\r\n",
      "    dialect: {}\r\n",
      "    encoding: utf-8\r\n",
      "    format: csv\r\n",
      "    hashing: md5\r\n",
      "    name: country-3\r\n",
      "    path: data/country-3.csv\r\n",
      "    profile: tabular-data-resource\r\n",
      "    query: {}\r\n",
      "    schema:\r\n",
      "      fields:\r\n",
      "        - name: id\r\n",
      "          type: integer\r\n",
      "        - name: capital_id\r\n",
      "          type: integer\r\n",
      "        - name: name\r\n",
      "          type: string\r\n",
      "        - name: population\r\n",
      "          type: integer\r\n",
      "    scheme: file\r\n",
      "    stats:\r\n",
      "      bytes: 100\r\n",
      "      fields: 4\r\n",
      "      hash: c0558b91523683483f86f63346d06d81\r\n",
      "      rows: 5\u001b[0m\r\n",
      "\u001b[0m\r\n"
     ]
    }
   ],
   "source": [
    "! frictionless describe data/*-3.csv"
   ]
  },
  {
   "cell_type": "markdown",
   "metadata": {},
   "source": [
    "We have already learned about many concepts that are reflected in this metadata. We can see resources, schemas, fields, and other familiar entities. The difference is that this descriptor has information about multiple files which is the most popular way of sharing data - in datasets. Very often you have not only one data file but also additional data files, some textual documents e.g. PDF, and others. To package all of these files with the corresponding metadata we use data packages.\n",
    "\n",
    "Following the already familiar to the guide's reader pattern, we add some additional metadata:"
   ]
  },
  {
   "cell_type": "code",
   "execution_count": 14,
   "metadata": {
    "execution": {
     "iopub.execute_input": "2020-12-02T10:41:42.647497Z",
     "iopub.status.busy": "2020-12-02T10:41:42.646391Z",
     "iopub.status.idle": "2020-12-02T10:41:42.727688Z",
     "shell.execute_reply": "2020-12-02T10:41:42.728595Z"
    }
   },
   "outputs": [],
   "source": [
    "from frictionless import describe_package\n",
    "\n",
    "package = describe_package(\"data/*-3.csv\")\n",
    "package.title = \"Countries and their capitals\"\n",
    "package.description = \"The data was collected as a research project\"\n",
    "package.get_resource(\"country-3\").name = \"country\"\n",
    "package.get_resource(\"capital-3\").name = \"capital\"\n",
    "package.get_resource(\"country\").schema.foreign_keys.append(\n",
    "    {\"fields\": [\"capital_id\"], \"reference\": {\"resource\": \"capital\", \"fields\": [\"id\"]}}\n",
    ")\n",
    "package.to_yaml(\"tmp/country.package.yaml\")"
   ]
  },
  {
   "cell_type": "markdown",
   "metadata": {},
   "source": [
    "In this case, we add a relation between different files connecting `id` and `capital_id`. Also, we provide dataset-level metadata to share with the purpose of this dataset. We haven't added individual fields' titles and description but it can be done as it was shown in the \"Table Schema\" section."
   ]
  },
  {
   "cell_type": "code",
   "execution_count": 15,
   "metadata": {
    "execution": {
     "iopub.execute_input": "2020-12-02T10:41:42.733907Z",
     "iopub.status.busy": "2020-12-02T10:41:42.733198Z",
     "iopub.status.idle": "2020-12-02T10:41:42.855906Z",
     "shell.execute_reply": "2020-12-02T10:41:42.857157Z"
    }
   },
   "outputs": [
    {
     "name": "stdout",
     "output_type": "stream",
     "text": [
      "description: The data was collected as a research project\r\n",
      "profile: data-package\r\n",
      "resources:\r\n",
      "  - compression: 'no'\r\n",
      "    compressionPath: ''\r\n",
      "    control:\r\n",
      "      newline: ''\r\n",
      "    dialect: {}\r\n",
      "    encoding: utf-8\r\n",
      "    format: csv\r\n",
      "    hashing: md5\r\n",
      "    name: capital\r\n",
      "    path: data/capital-3.csv\r\n",
      "    profile: tabular-data-resource\r\n",
      "    query: {}\r\n",
      "    schema:\r\n",
      "      fields:\r\n",
      "        - name: id\r\n",
      "          type: integer\r\n",
      "        - name: name\r\n",
      "          type: string\r\n",
      "    scheme: file\r\n",
      "    stats:\r\n",
      "      bytes: 50\r\n",
      "      fields: 2\r\n",
      "      hash: e7b6592a0a4356ba834e4bf1c8e8c7f8\r\n",
      "      rows: 5\r\n",
      "  - compression: 'no'\r\n",
      "    compressionPath: ''\r\n",
      "    control:\r\n",
      "      newline: ''\r\n",
      "    dialect: {}\r\n",
      "    encoding: utf-8\r\n",
      "    format: csv\r\n",
      "    hashing: md5\r\n",
      "    name: country\r\n",
      "    path: data/country-3.csv\r\n",
      "    profile: tabular-data-resource\r\n",
      "    query: {}\r\n",
      "    schema:\r\n",
      "      fields:\r\n",
      "        - name: id\r\n",
      "          type: integer\r\n",
      "        - name: capital_id\r\n",
      "          type: integer\r\n",
      "        - name: name\r\n",
      "          type: string\r\n",
      "        - name: population\r\n",
      "          type: integer\r\n",
      "      foreignKeys:\r\n",
      "        - fields:\r\n",
      "            - capital_id\r\n",
      "          reference:\r\n",
      "            fields:\r\n",
      "              - id\r\n",
      "            resource: capital\r\n",
      "    scheme: file\r\n",
      "    stats:\r\n",
      "      bytes: 100\r\n",
      "      fields: 4\r\n",
      "      hash: c0558b91523683483f86f63346d06d81\r\n",
      "      rows: 5\r\n",
      "title: Countries and their capitals\r\n"
     ]
    }
   ],
   "source": [
    "! cat tmp/country.package.yaml"
   ]
  },
  {
   "cell_type": "markdown",
   "metadata": {},
   "source": [
    "The main role of the Data Package descriptor is describing a dataset; as we can see, it includes previously shown descriptors as though `schema`, `dialect`, and `resource`. But it's a mistake to think then that Data Package is the least important specification; actually, it completes the Frictionless Data suite making possible sharing and validating not only individual files but complete datasets.\n",
    "\n",
    "To continue learning about data resources please read:\n",
    "- [Data Package Spec](https://specs.frictionlessdata.io/data-package/)\n",
    "- API Reference: Package\n",
    "\n",
    "## Description Options\n",
    "\n",
    "The `describe` functions above share the only one common argument:\n",
    "- `expand`: whether to expand output metadata or not (see \"Expanding Metadata\")\n",
    "\n",
    "### Package\n",
    "\n",
    "The `describe_package` doesn't accept any additional options.\n",
    "\n",
    "## Resource\n",
    "\n",
    "With the `describe_resource` function you can use as options:\n",
    "- File Details (see \"Extracting Data\")\n",
    "- File Control (see \"Extracting Data\")\n",
    "- Table Dialect (see \"Extracting Data\")\n",
    "- Table Query (see \"Extracting Data\")\n",
    "- Header Options (see \"Extracting Data\")\n",
    "- Infer Options\n",
    "\n",
    "##  Metadata Purpose\n",
    "\n",
    "This documentation contains a great deal of information on how to use metadata and why it's vital for your data. In this article, we're going to provide a quick example based on the \"Data Resource\" section but please read other documents to get the full picture.\n",
    "\n",
    "Let's get back to this exotic data table:"
   ]
  },
  {
   "cell_type": "code",
   "execution_count": 16,
   "metadata": {
    "execution": {
     "iopub.execute_input": "2020-12-02T10:41:42.866163Z",
     "iopub.status.busy": "2020-12-02T10:41:42.863652Z",
     "iopub.status.idle": "2020-12-02T10:41:42.991205Z",
     "shell.execute_reply": "2020-12-02T10:41:42.992211Z"
    }
   },
   "outputs": [
    {
     "name": "stdout",
     "output_type": "stream",
     "text": [
      "# Author: the scientist\r\n",
      "id;neighbor_id;name;population\r\n",
      "1;;Britain;67\r\n",
      "2;3;France;67\r\n",
      "3;2;Germany;83\r\n",
      "4;5;Italy;60\r\n",
      "5;4;Spain;47\r\n"
     ]
    }
   ],
   "source": [
    "! cat data/country-2.csv"
   ]
  },
  {
   "cell_type": "markdown",
   "metadata": {},
   "source": [
    "As we tried before, by default Frictionless can't properly describe this file so we got something like:"
   ]
  },
  {
   "cell_type": "code",
   "execution_count": 17,
   "metadata": {
    "execution": {
     "iopub.execute_input": "2020-12-02T10:41:42.999204Z",
     "iopub.status.busy": "2020-12-02T10:41:42.998038Z",
     "iopub.status.idle": "2020-12-02T10:41:44.333316Z",
     "shell.execute_reply": "2020-12-02T10:41:44.334842Z"
    }
   },
   "outputs": [
    {
     "name": "stdout",
     "output_type": "stream",
     "text": [
      "---\u001b[0m\r\n",
      "\u001b[1mmetadata: data/country-2.csv\u001b[0m\r\n",
      "---\u001b[0m\r\n",
      "\u001b[0m\r\n",
      "compression: 'no'\r\n",
      "compressionPath: ''\r\n",
      "control:\r\n",
      "  newline: ''\r\n",
      "dialect: {}\r\n",
      "encoding: utf-8\r\n",
      "format: csv\r\n",
      "hashing: md5\r\n",
      "name: country-2\r\n",
      "path: data/country-2.csv\r\n",
      "profile: tabular-data-resource\r\n",
      "query: {}\r\n",
      "schema:\r\n",
      "  fields:\r\n",
      "    - name: '# Author: the scientist'\r\n",
      "      type: string\r\n",
      "scheme: file\r\n",
      "stats:\r\n",
      "  bytes: 124\r\n",
      "  fields: 1\r\n",
      "  hash: 88e1901235a8cf35da4d28a1cdf415e5\r\n",
      "  rows: 6\u001b[0m\r\n",
      "\u001b[0m\r\n"
     ]
    }
   ],
   "source": [
    "! frictionless describe data/country-2.csv"
   ]
  },
  {
   "cell_type": "markdown",
   "metadata": {},
   "source": [
    "Trying to extract the data will fail the same way:"
   ]
  },
  {
   "cell_type": "code",
   "execution_count": 18,
   "metadata": {
    "execution": {
     "iopub.execute_input": "2020-12-02T10:41:44.349904Z",
     "iopub.status.busy": "2020-12-02T10:41:44.345089Z",
     "iopub.status.idle": "2020-12-02T10:41:45.405012Z",
     "shell.execute_reply": "2020-12-02T10:41:45.404039Z"
    }
   },
   "outputs": [
    {
     "name": "stdout",
     "output_type": "stream",
     "text": [
      "---\u001b[0m\r\n",
      "\u001b[1mdata: data/country-2.csv\u001b[0m\r\n",
      "---\u001b[0m\r\n",
      "\u001b[0m\r\n",
      "==============================\r\n",
      "# Author: the scientist       \r\n",
      "==============================\r\n",
      "id;neighbor_id;name;population\r\n",
      "1;;Britain;67                 \r\n",
      "2;3;France;67                 \r\n",
      "3;2;Germany;83                \r\n",
      "4;5;Italy;60                  \r\n",
      "5;4;Spain;47                  \r\n",
      "==============================\r\n",
      "\u001b[0m\r\n"
     ]
    }
   ],
   "source": [
    "! frictionless extract data/country-2.csv"
   ]
  },
  {
   "cell_type": "markdown",
   "metadata": {},
   "source": [
    "Basically, that's a really important idea - with not metadata many software will not be able to even read this data file, furthermore, without metadata people can not understand the purpose of this data. Let's now use the `country.resource.yaml` the file we created in the \"Data Resource\" section:"
   ]
  },
  {
   "cell_type": "code",
   "execution_count": 19,
   "metadata": {
    "execution": {
     "iopub.execute_input": "2020-12-02T10:41:45.414589Z",
     "iopub.status.busy": "2020-12-02T10:41:45.411991Z",
     "iopub.status.idle": "2020-12-02T10:41:46.526555Z",
     "shell.execute_reply": "2020-12-02T10:41:46.527400Z"
    }
   },
   "outputs": [
    {
     "name": "stdout",
     "output_type": "stream",
     "text": [
      "---\u001b[0m\r\n",
      "\u001b[1mdata: tmp/country.resource.yaml\u001b[0m\r\n",
      "---\u001b[0m\r\n",
      "\u001b[0m\r\n",
      "==  ===========  =======  ==========\r\n",
      "id  neighbor_id  name     population\r\n",
      "==  ===========  =======  ==========\r\n",
      " 1  None         Britain          67\r\n",
      " 2            3  France           67\r\n",
      " 3            2  Germany          83\r\n",
      " 4            5  Italy            60\r\n",
      " 5            4  Spain            47\r\n",
      "==  ===========  =======  ==========\r\n",
      "\u001b[0m\r\n"
     ]
    }
   ],
   "source": [
    "! frictionless extract tmp/country.resource.yaml --basepath ."
   ]
  },
  {
   "cell_type": "markdown",
   "metadata": {},
   "source": [
    "As we can see, it's now fixed. The metadata we'd had saved the day. If we explore this data in Python we can discover that it also correct data types e.g. `id` is Python's integer not string. This fact will allow exporting and sharing this data without any fear.\n",
    "\n",
    "## Metadata Classes\n",
    "\n",
    "Frictionless has many classes that is derived from the `Metadata` class. It means that all of them can be treated as a metadata object with getters and setters, `to_json` and `to_yaml` function, and other Metadata's API. See \"API Reference\" for more information about these classes:\n",
    "\n",
    "- Package\n",
    "- Resource\n",
    "- Schema\n",
    "- Field\n",
    "- Control\n",
    "- Dialect\n",
    "- Query\n",
    "- Report\n",
    "- Pipeline\n",
    "- Error\n",
    "- etc\n",
    "\n",
    "## Inferring Metadata\n",
    "\n",
    "Many Frictionless functions infer metadata under the hood as though `describe`, `extract`, and many more. On a lower-level, it's possible to control this process. Let's create a `Resource`."
   ]
  },
  {
   "cell_type": "code",
   "execution_count": 20,
   "metadata": {
    "execution": {
     "iopub.execute_input": "2020-12-02T10:41:46.536490Z",
     "iopub.status.busy": "2020-12-02T10:41:46.535642Z",
     "iopub.status.idle": "2020-12-02T10:41:46.541496Z",
     "shell.execute_reply": "2020-12-02T10:41:46.542573Z"
    }
   },
   "outputs": [
    {
     "name": "stdout",
     "output_type": "stream",
     "text": [
      "{'path': 'data/country-1.csv'}\n"
     ]
    }
   ],
   "source": [
    "from pprint import pprint\n",
    "from frictionless import Resource\n",
    "\n",
    "resource = Resource(path=\"data/country-1.csv\")\n",
    "pprint(resource)"
   ]
  },
  {
   "cell_type": "markdown",
   "metadata": {},
   "source": [
    "Frictionless always tries to be as explicit as possible. We didn't provide any metadata except for `type` so we got the expected result. But now, we'd like to `infer` additional metadata:"
   ]
  },
  {
   "cell_type": "code",
   "execution_count": 21,
   "metadata": {
    "execution": {
     "iopub.execute_input": "2020-12-02T10:41:46.558466Z",
     "iopub.status.busy": "2020-12-02T10:41:46.549055Z",
     "iopub.status.idle": "2020-12-02T10:41:46.580398Z",
     "shell.execute_reply": "2020-12-02T10:41:46.581344Z"
    }
   },
   "outputs": [
    {
     "name": "stdout",
     "output_type": "stream",
     "text": [
      "{'compression': 'no',\n",
      " 'compressionPath': '',\n",
      " 'control': {'newline': ''},\n",
      " 'dialect': {},\n",
      " 'encoding': 'utf-8',\n",
      " 'format': 'csv',\n",
      " 'hashing': 'md5',\n",
      " 'name': 'country-1',\n",
      " 'path': 'data/country-1.csv',\n",
      " 'profile': 'tabular-data-resource',\n",
      " 'query': {},\n",
      " 'schema': {'fields': [{'name': 'id', 'type': 'integer'},\n",
      "                       {'name': 'neighbor_id', 'type': 'integer'},\n",
      "                       {'name': 'name', 'type': 'string'},\n",
      "                       {'name': 'population', 'type': 'integer'}]},\n",
      " 'scheme': 'file',\n",
      " 'stats': {'bytes': 100,\n",
      "           'fields': 4,\n",
      "           'hash': '4204f087f328b70c854c03403ab448c4',\n",
      "           'rows': 5}}\n"
     ]
    }
   ],
   "source": [
    "resource.infer()\n",
    "pprint(resource)"
   ]
  },
  {
   "cell_type": "markdown",
   "metadata": {},
   "source": [
    "The result is really familiar to us already. We have seen it a lot as an output of the `describe` function or command. Basically, that's what this high-level function does under the hood: create a resource and then infer additional metadata.\n",
    "\n",
    "All main `Metadata` classes have this method with different available options but with the same conceptual purpose:\n",
    "- `package.infer`\n",
    "- `resource.infer`\n",
    "- `schema.infer`\n",
    "\n",
    "## Expanding Metadata\n",
    "\n",
    "By default, Frictionless never adds default values to metadata, for example:"
   ]
  },
  {
   "cell_type": "code",
   "execution_count": 22,
   "metadata": {
    "execution": {
     "iopub.execute_input": "2020-12-02T10:41:46.589882Z",
     "iopub.status.busy": "2020-12-02T10:41:46.588450Z",
     "iopub.status.idle": "2020-12-02T10:41:46.608481Z",
     "shell.execute_reply": "2020-12-02T10:41:46.609544Z"
    }
   },
   "outputs": [
    {
     "name": "stdout",
     "output_type": "stream",
     "text": [
      "{'fields': [{'name': 'id', 'type': 'integer'},\n",
      "            {'name': 'neighbor_id', 'type': 'integer'},\n",
      "            {'name': 'name', 'type': 'string'},\n",
      "            {'name': 'population', 'type': 'integer'}]}\n"
     ]
    }
   ],
   "source": [
    "from pprint import pprint\n",
    "from frictionless import describe\n",
    "\n",
    "resource = describe(\"data/country-1.csv\")\n",
    "pprint(resource.schema)"
   ]
  },
  {
   "cell_type": "markdown",
   "metadata": {},
   "source": [
    "Under the hood it, for example, still treats empty string as missing values because it's the specs' default. We can make reveal implicit metadata by expanding it:"
   ]
  },
  {
   "cell_type": "code",
   "execution_count": 23,
   "metadata": {
    "execution": {
     "iopub.execute_input": "2020-12-02T10:41:46.617933Z",
     "iopub.status.busy": "2020-12-02T10:41:46.615542Z",
     "iopub.status.idle": "2020-12-02T10:41:46.629743Z",
     "shell.execute_reply": "2020-12-02T10:41:46.630248Z"
    }
   },
   "outputs": [
    {
     "name": "stdout",
     "output_type": "stream",
     "text": [
      "{'fields': [{'bareNumber': True,\n",
      "             'format': 'default',\n",
      "             'name': 'id',\n",
      "             'type': "
     ]
    },
    {
     "name": "stdout",
     "output_type": "stream",
     "text": [
      "'integer'},\n",
      "            {'bareNumber': True,\n",
      "             'format': 'default',\n",
      "             'name': 'neighbor_id',\n",
      "             'type': 'integer'},\n",
      "            {'format': 'default', 'name': 'name', 'type': 'string'},\n",
      "            {'bareNumber': True,\n",
      "             'format': 'default',\n",
      "             'name': 'population',\n",
      "             'type': 'integer'}],\n",
      " 'missingValues': ['']}\n"
     ]
    }
   ],
   "source": [
    "resource.schema.expand()\n",
    "pprint(resource.schema)"
   ]
  },
  {
   "cell_type": "markdown",
   "metadata": {},
   "source": [
    "## Transforming Metadata\n",
    "\n",
    "We have seen it before but let's re-iterate; it's possible to transform core metadata properties using Python interface:"
   ]
  },
  {
   "cell_type": "code",
   "execution_count": 24,
   "metadata": {
    "execution": {
     "iopub.execute_input": "2020-12-02T10:41:46.638417Z",
     "iopub.status.busy": "2020-12-02T10:41:46.636726Z",
     "iopub.status.idle": "2020-12-02T10:41:46.660006Z",
     "shell.execute_reply": "2020-12-02T10:41:46.659348Z"
    }
   },
   "outputs": [],
   "source": [
    "from frictionless import Resource\n",
    "\n",
    "resource = Resource(\"tmp/country.resource.yaml\")\n",
    "resource.title = \"Countries\"\n",
    "resource.description = \"It's a research project\"\n",
    "resource.dialect.header_rows = [2]\n",
    "resource.dialect.delimiter = \";\"\n",
    "resource.to_yaml(\"tmp/country.resource.yaml\")"
   ]
  },
  {
   "cell_type": "markdown",
   "metadata": {},
   "source": [
    "But not only the Python interface is available. Thanks to the flexibility of the Frictionless Specs, we can add arbitrary metadata to our descriptor. We use dictionary operations for it:"
   ]
  },
  {
   "cell_type": "code",
   "execution_count": 25,
   "metadata": {
    "execution": {
     "iopub.execute_input": "2020-12-02T10:41:46.667284Z",
     "iopub.status.busy": "2020-12-02T10:41:46.666660Z",
     "iopub.status.idle": "2020-12-02T10:41:46.687740Z",
     "shell.execute_reply": "2020-12-02T10:41:46.688841Z"
    }
   },
   "outputs": [],
   "source": [
    "from frictionless import Resource\n",
    "\n",
    "resource = Resource(\"tmp/country.resource.yaml\")\n",
    "resource[\"customKey1\"] = \"Value1\"\n",
    "resource[\"customKey2\"] = \"Value2\"\n",
    "resource.to_yaml(\"tmp/country.resource.yaml\")"
   ]
  },
  {
   "cell_type": "markdown",
   "metadata": {},
   "source": [
    "Let's check it out:"
   ]
  },
  {
   "cell_type": "code",
   "execution_count": 26,
   "metadata": {
    "execution": {
     "iopub.execute_input": "2020-12-02T10:41:46.698804Z",
     "iopub.status.busy": "2020-12-02T10:41:46.697567Z",
     "iopub.status.idle": "2020-12-02T10:41:46.822516Z",
     "shell.execute_reply": "2020-12-02T10:41:46.820341Z"
    }
   },
   "outputs": [
    {
     "name": "stdout",
     "output_type": "stream",
     "text": [
      "compression: 'no'\r\n",
      "compressionPath: ''\r\n",
      "control:\r\n",
      "  newline: ''\r\n",
      "customKey1: Value1\r\n",
      "customKey2: Value2\r\n",
      "description: It's a research project\r\n",
      "dialect:\r\n",
      "  delimiter: ;\r\n",
      "  headerRows:\r\n",
      "    - 2\r\n",
      "encoding: utf-8\r\n",
      "format: csv\r\n",
      "hashing: md5\r\n",
      "name: country-2\r\n",
      "path: data/country-2.csv\r\n",
      "profile: tabular-data-resource\r\n",
      "query: {}\r\n",
      "schema:\r\n",
      "  fields:\r\n",
      "    - name: id\r\n",
      "      title: Identifier\r\n",
      "      type: integer\r\n",
      "    - name: neighbor_id\r\n",
      "      title: Identifier of the neighbor\r\n",
      "      type: integer\r\n",
      "    - name: name\r\n",
      "      title: Name of the country\r\n",
      "      type: string\r\n",
      "    - constraints:\r\n",
      "        minimum: 0\r\n",
      "      description: According to the year 2020's data\r\n",
      "      name: population\r\n",
      "      title: Population\r\n",
      "      type: integer\r\n",
      "  foreignKeys:\r\n",
      "    - fields:\r\n",
      "        - neighbor_id\r\n",
      "      reference:\r\n",
      "        fields:\r\n",
      "          - id\r\n",
      "        resource: ''\r\n",
      "scheme: file\r\n",
      "stats:\r\n",
      "  bytes: 124\r\n",
      "  fields: 1\r\n",
      "  hash: 88e1901235a8cf35da4d28a1cdf415e5\r\n",
      "  rows: 6\r\n",
      "title: Countries\r\n"
     ]
    }
   ],
   "source": [
    "! cat tmp/country.resource.yaml"
   ]
  },
  {
   "cell_type": "markdown",
   "metadata": {},
   "source": [
    "## Validating Metadata\n",
    "\n",
    "Metadata validity is an important topic so it's recommended to validate your metadata before publishing. For example, let's make it invalid:"
   ]
  },
  {
   "cell_type": "code",
   "execution_count": 27,
   "metadata": {
    "execution": {
     "iopub.execute_input": "2020-12-02T10:41:46.852900Z",
     "iopub.status.busy": "2020-12-02T10:41:46.831883Z",
     "iopub.status.idle": "2020-12-02T10:41:46.858545Z",
     "shell.execute_reply": "2020-12-02T10:41:46.859077Z"
    }
   },
   "outputs": [
    {
     "name": "stdout",
     "output_type": "stream",
     "text": [
      "False\n",
      "[{'code': 'resource-error', 'name': 'Resource Error', 'tags': ['#general'], 'note': '\"1 is not of type \\'string\\'\" at \"title\" in metadata and at \"properties/title/type\" in profile', 'message': 'The data resource has an error: \"1 is not of type \\'string\\'\" at \"title\" in metadata and at \"properties/title/type\" in profile', 'description': 'A validation cannot be processed.'}]\n"
     ]
    }
   ],
   "source": [
    "from frictionless import Resource\n",
    "\n",
    "resource = Resource(\"tmp/country.resource.yaml\")\n",
    "resource[\"title\"] = 1\n",
    "print(resource.metadata_valid)\n",
    "print(resource.metadata_errors)"
   ]
  },
  {
   "cell_type": "markdown",
   "metadata": {},
   "source": [
    "Let's fix our resource metadata:"
   ]
  },
  {
   "cell_type": "code",
   "execution_count": 28,
   "metadata": {
    "execution": {
     "iopub.execute_input": "2020-12-02T10:41:46.865520Z",
     "iopub.status.busy": "2020-12-02T10:41:46.864726Z",
     "iopub.status.idle": "2020-12-02T10:41:46.882078Z",
     "shell.execute_reply": "2020-12-02T10:41:46.882588Z"
    }
   },
   "outputs": [
    {
     "name": "stdout",
     "output_type": "stream",
     "text": [
      "True\n"
     ]
    }
   ],
   "source": [
    "from frictionless import Resource\n",
    "\n",
    "resource = Resource(\"tmp/country.resource.yaml\")\n",
    "resource[\"title\"] = 'Countries'\n",
    "print(resource.metadata_valid)"
   ]
  },
  {
   "cell_type": "markdown",
   "metadata": {},
   "source": [
    "You need to check `metadata.metadata_valid` only if you change it by hands; the available high-level functions like `validate` do it on their own.\n",
    "\n",
    "## Mastering Metadata\n",
    "\n",
    "Metadata class is under the hood of many of Frictionless' classes. Let's overview main `Metadata` features. For a full reference, please read \"API Reference\". Let's take a look at the Metadata class which is a `dict` subclass:"
   ]
  },
  {
   "cell_type": "markdown",
   "metadata": {},
   "source": [
    "```\n",
    "Metadata(dict)\n",
    "  metadata_attach\n",
    "  metadata_extract\n",
    "  metadata_process\n",
    "  metadata_validate\n",
    "  ---\n",
    "  metadata_valid\n",
    "  metadata_errors\n",
    "  ---\n",
    "  to_json\n",
    "  to_yaml\n",
    "```\n"
   ]
  },
  {
   "cell_type": "markdown",
   "metadata": {},
   "source": [
    "This class exists for subclassing and here is important points that will help to work with metadata objects and design and write new metadata classes:\n",
    "- to bind default values to a property it's possible to use `metadata_attach` (see e.g. the `Schema` class)\n",
    "- during the initialization a descriptor is processed by `metadata_extract`\n",
    "- metadata detect any shallow update and call `metadata_process`\n",
    "- checking for validity or errors will trigger `metadata_validate`\n",
    "- functions exporting to json and yaml are available be default\n",
    "- `metadata_profile` can be set to a JSON Schema\n",
    "- `metadata_Error` can be set to an Error class\n",
    "\n",
    "## Infer Options\n",
    "\n",
    "Let's explore some handy options to customize the infer process. All of them are available in some form for all the functions above and for different invocation types: in Python, in CLI, or for a REST server.\n",
    "\n",
    "### Infer Type\n",
    "\n",
    "This option allows manually setting all the field types to a given type. It's useful when you need to skip datacasting (setting `any` type) or have everything as a string (setting `string` type):"
   ]
  },
  {
   "cell_type": "code",
   "execution_count": 29,
   "metadata": {
    "execution": {
     "iopub.execute_input": "2020-12-02T10:41:46.892272Z",
     "iopub.status.busy": "2020-12-02T10:41:46.888916Z",
     "iopub.status.idle": "2020-12-02T10:41:47.960052Z",
     "shell.execute_reply": "2020-12-02T10:41:47.958580Z"
    }
   },
   "outputs": [
    {
     "name": "stdout",
     "output_type": "stream",
     "text": [
      "---\u001b[0m\r\n",
      "\u001b[1mmetadata: data/country-1.csv\u001b[0m\r\n",
      "---\u001b[0m\r\n",
      "\u001b[0m\r\n",
      "compression: 'no'\r\n",
      "compressionPath: ''\r\n",
      "control:\r\n",
      "  newline: ''\r\n",
      "dialect: {}\r\n",
      "encoding: utf-8\r\n",
      "format: csv\r\n",
      "hashing: md5\r\n",
      "name: country-1\r\n",
      "path: data/country-1.csv\r\n",
      "profile: tabular-data-resource\r\n",
      "query: {}\r\n",
      "schema:\r\n",
      "  fields:\r\n",
      "    - name: id\r\n",
      "      type: string\r\n",
      "    - name: neighbor_id\r\n",
      "      type: string\r\n",
      "    - name: name\r\n",
      "      type: string\r\n",
      "    - name: population\r\n",
      "      type: string\r\n",
      "scheme: file\r\n",
      "stats:\r\n",
      "  bytes: 100\r\n",
      "  fields: 4\r\n",
      "  hash: 4204f087f328b70c854c03403ab448c4\r\n",
      "  rows: 5\u001b[0m\r\n",
      "\u001b[0m\r\n"
     ]
    }
   ],
   "source": [
    "! frictionless describe data/country-1.csv --infer-type string"
   ]
  },
  {
   "cell_type": "markdown",
   "metadata": {},
   "source": [
    "### Infer Names\n",
    "\n",
    "Sometimes you don't want to use existent header row to compose field names. It's possible to provide custom names:"
   ]
  },
  {
   "cell_type": "code",
   "execution_count": 30,
   "metadata": {
    "execution": {
     "iopub.execute_input": "2020-12-02T10:41:47.974942Z",
     "iopub.status.busy": "2020-12-02T10:41:47.971334Z",
     "iopub.status.idle": "2020-12-02T10:41:47.991161Z",
     "shell.execute_reply": "2020-12-02T10:41:47.992321Z"
    }
   },
   "outputs": [
    {
     "name": "stdout",
     "output_type": "stream",
     "text": [
      "['f1', 'f2', 'f3', 'f4']\n"
     ]
    }
   ],
   "source": [
    "from frictionless import describe\n",
    "\n",
    "resource = describe(\"data/country-1.csv\", infer_names=[\"f1\", \"f2\", \"f3\", \"f4\"])\n",
    "print(resource.schema.field_names)"
   ]
  },
  {
   "cell_type": "markdown",
   "metadata": {},
   "source": [
    "### Infer Volume\n",
    "\n",
    "By default, Frictionless will use the first 100 rows to detect field types. This can be customized. The following code will be slower but the result can be more accurate"
   ]
  },
  {
   "cell_type": "code",
   "execution_count": 31,
   "metadata": {
    "execution": {
     "iopub.execute_input": "2020-12-02T10:41:48.001952Z",
     "iopub.status.busy": "2020-12-02T10:41:47.999833Z",
     "iopub.status.idle": "2020-12-02T10:41:48.013495Z",
     "shell.execute_reply": "2020-12-02T10:41:48.014300Z"
    }
   },
   "outputs": [],
   "source": [
    "from frictionless import describe\n",
    "\n",
    "resource = describe(\"data/country-1.csv\", infer_volume=1000)"
   ]
  },
  {
   "cell_type": "markdown",
   "metadata": {},
   "source": [
    "### Infer Confidence\n",
    "\n",
    "By default, Frictionless uses 0.9 (90%) confidence level for data types detection. It means that it there are 9 integers in a field and one string it will be inferred as an integer. If you want a guarantee that an inferred schema will conform to the data you can set it to 1 (100%):"
   ]
  },
  {
   "cell_type": "code",
   "execution_count": 32,
   "metadata": {
    "execution": {
     "iopub.execute_input": "2020-12-02T10:41:48.030382Z",
     "iopub.status.busy": "2020-12-02T10:41:48.028959Z",
     "iopub.status.idle": "2020-12-02T10:41:48.034792Z",
     "shell.execute_reply": "2020-12-02T10:41:48.033569Z"
    }
   },
   "outputs": [],
   "source": [
    "from frictionless import describe\n",
    "\n",
    "resource = describe(\"data/country-1.csv\", infer_confidence=1)"
   ]
  },
  {
   "cell_type": "markdown",
   "metadata": {},
   "source": [
    "### Infer Missing Values\n",
    "\n",
    "Missing Values is an important concept in data description. It provides information about what cell values should be considered as nulls. We can customize the defaults:"
   ]
  },
  {
   "cell_type": "code",
   "execution_count": 33,
   "metadata": {
    "execution": {
     "iopub.execute_input": "2020-12-02T10:41:48.042083Z",
     "iopub.status.busy": "2020-12-02T10:41:48.041155Z",
     "iopub.status.idle": "2020-12-02T10:41:48.063778Z",
     "shell.execute_reply": "2020-12-02T10:41:48.064892Z"
    }
   },
   "outputs": [
    {
     "name": "stdout",
     "output_type": "stream",
     "text": [
      "['', '67']\n",
      "[Row([('id', 1),\n",
      "      ('neighbor_id', None),\n",
      "      ('name', 'Britain'),\n",
      "      ('population', None)]),\n",
      " Row([('id', 2), ('neighbor_id', 3), ('name', 'France'), ('population', None)]),\n",
      " Row([('id', 3), ('neighbor_id', 2), ('name', 'Germany'), ('population', 83)]),\n",
      " Row([('id', 4), ('neighbor_id', 5), ('name', 'Italy'), ('population', 60)]),\n",
      " Row([('id', 5), ('neighbor_id', 4), ('name', 'Spain'), ('population', 47)])]\n"
     ]
    }
   ],
   "source": [
    "from pprint import pprint\n",
    "from frictionless import describe\n",
    "\n",
    "resource = describe(\"data/country-1.csv\", infer_missing_values=[\"\", \"67\"])\n",
    "pprint(resource.schema.missing_values)\n",
    "pprint(resource.read_rows())"
   ]
  },
  {
   "cell_type": "markdown",
   "metadata": {},
   "source": [
    "As we can see, the textual values equal to \"67\" are now considered nulls. Usually, it's handy when you have data with values like: '-', 'n/a', and similar."
   ]
  }
 ],
 "metadata": {
  "language_info": {
   "codemirror_mode": {
    "name": "ipython",
    "version": 3
   },
   "file_extension": ".py",
   "mimetype": "text/x-python",
   "name": "python",
   "nbconvert_exporter": "python",
   "pygments_lexer": "ipython3",
   "version": "3.8.0"
  }
 },
 "nbformat": 4,
 "nbformat_minor": 4
}
