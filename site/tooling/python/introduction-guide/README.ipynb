{
 "cells": [
  {
   "cell_type": "markdown",
   "metadata": {},
   "source": [
    "# Introduction Guide\n",
    "\n",
    "Let's say we have a few raw data files. It's been just collected by the data researchers, and the quality of data is not yet perfect. To tell you more, they haven't even removed the comments from the first row!"
   ]
  },
  {
   "cell_type": "code",
   "execution_count": 1,
   "metadata": {
    "execution": {
     "iopub.execute_input": "2020-12-02T10:42:18.065329Z",
     "iopub.status.busy": "2020-12-02T10:42:18.063454Z",
     "iopub.status.idle": "2020-12-02T10:42:18.187490Z",
     "shell.execute_reply": "2020-12-02T10:42:18.185519Z"
    }
   },
   "outputs": [
    {
     "name": "stdout",
     "output_type": "stream",
     "text": [
      "# clean this data!\r\n",
      "id,neighbor_id,name,population\r\n",
      "1,Ireland,Britain,67\r\n",
      "2,3,France,n/a,find the population\r\n",
      "3,22,Germany,83\r\n",
      "4,,Italy,60\r\n",
      "5\r\n"
     ]
    }
   ],
   "source": [
    "! cat data/countries.csv"
   ]
  },
  {
   "cell_type": "markdown",
   "metadata": {},
   "source": [
    "As we can see, it's a data containing information about European countries and their populations. Also, it's easy to notice that there are two fields having a relationship based on a country's identifier.\n",
    "\n",
    "## Describing Data\n",
    "\n",
    "First of all, we're going to describe our dataset. Frictionless uses powerful [Frictionless Data Specifications](https://specs.frictionlessdata.io/). They are very handy to describe:\n",
    "- a data table - [Table Schema](https://specs.frictionlessdata.io/table-schema/)\n",
    "- a data resource - [Data Resource](https://specs.frictionlessdata.io/data-resource/)\n",
    "- a data package - [Data Package](https://specs.frictionlessdata.io/data-package/)\n",
    "- and other objects\n",
    "\n",
    "Let's describe the `countries` table:"
   ]
  },
  {
   "cell_type": "code",
   "execution_count": 2,
   "metadata": {
    "execution": {
     "iopub.execute_input": "2020-12-02T10:42:18.197673Z",
     "iopub.status.busy": "2020-12-02T10:42:18.195151Z",
     "iopub.status.idle": "2020-12-02T10:42:19.402263Z",
     "shell.execute_reply": "2020-12-02T10:42:19.400888Z"
    }
   },
   "outputs": [
    {
     "name": "stdout",
     "output_type": "stream",
     "text": [
      "---\u001b[0m\r\n",
      "\u001b[1mmetadata: data/countries.csv\u001b[0m\r\n",
      "---\u001b[0m\r\n",
      "\u001b[0m\r\n",
      "compression: 'no'\r\n",
      "compressionPath: ''\r\n",
      "control:\r\n",
      "  newline: ''\r\n",
      "dialect:\r\n",
      "  headerRows:\r\n",
      "    - 2\r\n",
      "encoding: utf-8\r\n",
      "format: csv\r\n",
      "hashing: md5\r\n",
      "name: countries\r\n",
      "path: data/countries.csv\r\n",
      "profile: tabular-data-resource\r\n",
      "query: {}\r\n",
      "schema:\r\n",
      "  fields:\r\n",
      "    - name: id\r\n",
      "      type: integer\r\n",
      "    - name: neighbor_id\r\n",
      "      type: string\r\n",
      "    - name: name\r\n",
      "      type: string\r\n",
      "    - name: population\r\n",
      "      type: string\r\n",
      "scheme: file\r\n",
      "stats:\r\n",
      "  bytes: 136\r\n",
      "  fields: 4\r\n",
      "  hash: b0481536cb4ab3e5db64f0feede627fa\r\n",
      "  rows: 5\u001b[0m\r\n",
      "\u001b[0m\r\n"
     ]
    }
   ],
   "source": [
    "! frictionless describe data/countries.csv"
   ]
  },
  {
   "cell_type": "markdown",
   "metadata": {},
   "source": [
    "As we can see, Frictionless was smart enough to understand that the first row contains a comment. It's good, but we still have a few problems:\n",
    "- we use `n/a` as a missing values marker\n",
    "- `neighbor_id` must be numerical: let's edit the schema\n",
    "- `population` must be numerical: setting proper missing values will solve it\n",
    "- there is a relation between the `id` and `neighbor_id` fields\n",
    "\n",
    "Let's update our metadata and save it to the disc:"
   ]
  },
  {
   "cell_type": "code",
   "execution_count": 3,
   "metadata": {
    "execution": {
     "iopub.execute_input": "2020-12-02T10:42:19.415421Z",
     "iopub.status.busy": "2020-12-02T10:42:19.414566Z",
     "iopub.status.idle": "2020-12-02T10:42:20.025595Z",
     "shell.execute_reply": "2020-12-02T10:42:20.024361Z"
    }
   },
   "outputs": [],
   "source": [
    "from frictionless import describe\n",
    "\n",
    "resource = describe(\"data/countries.csv\", infer_missing_values=[\"\", \"n/a\"])\n",
    "resource.schema.get_field(\"neighbor_id\").type = \"integer\"\n",
    "resource.schema.foreign_keys.append(\n",
    "    {\"fields\": [\"neighbor_id\"], \"reference\": {\"resource\": \"\", \"fields\": [\"id\"]}}\n",
    ")\n",
    "resource.to_yaml(\"tmp/countries.resource.yaml\")"
   ]
  },
  {
   "cell_type": "markdown",
   "metadata": {},
   "source": [
    "Let's see what we have created:"
   ]
  },
  {
   "cell_type": "code",
   "execution_count": 4,
   "metadata": {
    "execution": {
     "iopub.execute_input": "2020-12-02T10:42:20.032039Z",
     "iopub.status.busy": "2020-12-02T10:42:20.031004Z",
     "iopub.status.idle": "2020-12-02T10:42:20.160079Z",
     "shell.execute_reply": "2020-12-02T10:42:20.158210Z"
    }
   },
   "outputs": [
    {
     "name": "stdout",
     "output_type": "stream",
     "text": [
      "compression: 'no'\r\n",
      "compressionPath: ''\r\n",
      "control:\r\n",
      "  newline: ''\r\n",
      "dialect:\r\n",
      "  headerRows:\r\n",
      "    - 2\r\n",
      "encoding: utf-8\r\n",
      "format: csv\r\n",
      "hashing: md5\r\n",
      "name: countries\r\n",
      "path: data/countries.csv\r\n",
      "profile: tabular-data-resource\r\n",
      "query: {}\r\n",
      "schema:\r\n",
      "  fields:\r\n",
      "    - name: id\r\n",
      "      type: integer\r\n",
      "    - name: neighbor_id\r\n",
      "      type: integer\r\n",
      "    - name: name\r\n",
      "      type: string\r\n",
      "    - name: population\r\n",
      "      type: integer\r\n",
      "  foreignKeys:\r\n",
      "    - fields:\r\n",
      "        - neighbor_id\r\n",
      "      reference:\r\n",
      "        fields:\r\n",
      "          - id\r\n",
      "        resource: ''\r\n",
      "  missingValues:\r\n",
      "    - ''\r\n",
      "    - n/a\r\n",
      "scheme: file\r\n",
      "stats:\r\n",
      "  bytes: 136\r\n",
      "  fields: 4\r\n",
      "  hash: b0481536cb4ab3e5db64f0feede627fa\r\n",
      "  rows: 5\r\n"
     ]
    }
   ],
   "source": [
    "! cat tmp/countries.resource.yaml"
   ]
  },
  {
   "cell_type": "markdown",
   "metadata": {},
   "source": [
    "It has the same metadata as we saw above but also includes our editing related to missing values, data types and foreign key relationships. We didn't change all the wrong data types manually because providing proper missing values had fixed it automatically. Now we have a resource descriptor. In the next section, we will show why metadata matters and how to use it.\n",
    "\n",
    "## Extracting Data\n",
    "\n",
    "It's time to try extracting our data as a table. As a first naive attempt, we will ignore the metadata we saved on the previous step:"
   ]
  },
  {
   "cell_type": "code",
   "execution_count": 5,
   "metadata": {
    "execution": {
     "iopub.execute_input": "2020-12-02T10:42:20.169424Z",
     "iopub.status.busy": "2020-12-02T10:42:20.168220Z",
     "iopub.status.idle": "2020-12-02T10:42:21.552814Z",
     "shell.execute_reply": "2020-12-02T10:42:21.553997Z"
    }
   },
   "outputs": [
    {
     "name": "stdout",
     "output_type": "stream",
     "text": [
      "---\u001b[0m\r\n",
      "\u001b[1mdata: data/countries.csv\u001b[0m\r\n",
      "---\u001b[0m\r\n",
      "\u001b[0m\r\n",
      "==  ===========  =======  ==========\r\n",
      "id  neighbor_id  name     population\r\n",
      "==  ===========  =======  ==========\r\n",
      " 1  Ireland      Britain  67        \r\n",
      " 2  3            France   n/a       \r\n",
      " 3  22           Germany  83        \r\n",
      " 4  None         Italy    60        \r\n",
      " 5  None         None     None      \r\n",
      "==  ===========  =======  ==========\r\n",
      "\u001b[0m\r\n"
     ]
    }
   ],
   "source": [
    "! frictionless extract data/countries.csv"
   ]
  },
  {
   "cell_type": "markdown",
   "metadata": {},
   "source": [
    "Actually, it doesn't look terrible, but in reality, data like this is not quite useful:\n",
    "- it's not possible to export this data e.g., to SQL because integers are mixed with strings\n",
    "- there is still a basically empty row we don't want to have\n",
    "- there is a clear mistake in Germany's neighborhood!\n",
    "\n",
    "Let's use the metadata we save to try extracting data with the help of Frictionless Data specifications:"
   ]
  },
  {
   "cell_type": "code",
   "execution_count": 6,
   "metadata": {
    "execution": {
     "iopub.execute_input": "2020-12-02T10:42:21.569336Z",
     "iopub.status.busy": "2020-12-02T10:42:21.564604Z",
     "iopub.status.idle": "2020-12-02T10:42:22.951342Z",
     "shell.execute_reply": "2020-12-02T10:42:22.950088Z"
    }
   },
   "outputs": [
    {
     "name": "stdout",
     "output_type": "stream",
     "text": [
      "---\u001b[0m\r\n",
      "\u001b[1mdata: tmp/countries.resource.yaml\u001b[0m\r\n",
      "---\u001b[0m\r\n",
      "\u001b[0m\r\n",
      "==  ===========  =======  ==========\r\n",
      "id  neighbor_id  name     population\r\n",
      "==  ===========  =======  ==========\r\n",
      " 1  None         Britain          67\r\n",
      " 2            3  France   None      \r\n",
      " 3           22  Germany          83\r\n",
      " 4  None         Italy            60\r\n",
      " 5  None         None     None      \r\n",
      "==  ===========  =======  ==========\r\n",
      "\u001b[0m\r\n"
     ]
    }
   ],
   "source": [
    "! frictionless extract tmp/countries.resource.yaml --basepath ."
   ]
  },
  {
   "cell_type": "markdown",
   "metadata": {},
   "source": [
    "It's now much better! Numerical fields are numerical fields, and there are no more textual missing values markers. We can't see in the command-line, but missing values are now `None` values in Python, and the data can be e.g., exported to SQL. Although, it's still not ready for being published. In the next section, we will validate it!\n",
    "\n",
    "## Validating Data\n",
    "\n",
    "Data validation with Frictionless is as easy as describing or extracting data:"
   ]
  },
  {
   "cell_type": "code",
   "execution_count": 7,
   "metadata": {
    "execution": {
     "iopub.execute_input": "2020-12-02T10:42:22.962004Z",
     "iopub.status.busy": "2020-12-02T10:42:22.960645Z",
     "iopub.status.idle": "2020-12-02T10:42:24.210919Z",
     "shell.execute_reply": "2020-12-02T10:42:24.212878Z"
    }
   },
   "outputs": [
    {
     "name": "stdout",
     "output_type": "stream",
     "text": [
      "---\u001b[0m\r\n",
      "\u001b[1minvalid: data/countries.csv\u001b[0m\r\n",
      "---\u001b[0m\r\n",
      "\u001b[0m\r\n",
      "===  =====  ============  =============================================================================\r\n",
      "row  field  code          message                                                                      \r\n",
      "===  =====  ============  =============================================================================\r\n",
      "  4      5  extra-cell    Row at position \"4\" has an extra value in field at position \"5\"              \r\n",
      "  7      2  missing-cell  Row at position \"7\" has a missing cell in field \"neighbor_id\" at position \"2\"\r\n",
      "  7      3  missing-cell  Row at position \"7\" has a missing cell in field \"name\" at position \"3\"       \r\n",
      "  7      4  missing-cell  Row at position \"7\" has a missing cell in field \"population\" at position \"4\" \r\n",
      "===  =====  ============  =============================================================================\r\n",
      "\u001b[0m\r\n"
     ]
    }
   ],
   "source": [
    "! frictionless validate data/countries.csv"
   ]
  },
  {
   "cell_type": "markdown",
   "metadata": {},
   "source": [
    "Ahh, we had seen that coming. The data is not valid; there are some missing and extra cells. But wait a minute, in the first step, we created the metadata file with more information about our table. We have to use it."
   ]
  },
  {
   "cell_type": "code",
   "execution_count": 8,
   "metadata": {
    "execution": {
     "iopub.execute_input": "2020-12-02T10:42:24.225100Z",
     "iopub.status.busy": "2020-12-02T10:42:24.223812Z",
     "iopub.status.idle": "2020-12-02T10:42:25.319910Z",
     "shell.execute_reply": "2020-12-02T10:42:25.318143Z"
    }
   },
   "outputs": [
    {
     "name": "stdout",
     "output_type": "stream",
     "text": [
      "---\u001b[0m\r\n",
      "\u001b[1minvalid: ./data/countries.csv\u001b[0m\r\n",
      "---\u001b[0m\r\n",
      "\u001b[0m\r\n",
      "===  =====  =================  ==================================================================================================================================\r\n",
      "row  field  code               message                                                                                                                           \r\n",
      "===  =====  =================  ==================================================================================================================================\r\n",
      "  3      2  type-error         The cell \"Ireland\" in row at position \"3\" and field \"neighbor_id\" at position \"2\" has incompatible type: type is \"integer/default\"\r\n",
      "  4      5  extra-cell         Row at position \"4\" has an extra value in field at position \"5\"                                                                   \r\n",
      "  5  None   foreign-key-error  The row at position \"5\" does not conform to the foreign key constraint: not found in the lookup table                             \r\n",
      "  7      2  missing-cell       Row at position \"7\" has a missing cell in field \"neighbor_id\" at position \"2\"                                                     \r\n",
      "  7      3  missing-cell       Row at position \"7\" has a missing cell in field \"name\" at position \"3\"                                                            \r\n",
      "  7      4  missing-cell       Row at position \"7\" has a missing cell in field \"population\" at position \"4\"                                                      \r\n",
      "===  =====  =================  ==================================================================================================================================\r\n",
      "\u001b[0m\r\n"
     ]
    }
   ],
   "source": [
    "! frictionless validate tmp/countries.resource.yaml --basepath ."
   ]
  },
  {
   "cell_type": "markdown",
   "metadata": {},
   "source": [
    "Now it's even worse, but regarding data validation errors, the more, the better, actually. Thanks to the metadata, we were able to reveal some critical errors:\n",
    "- the bad data types, i.e. `Ireland` instead of an id\n",
    "- the bad relation between `id` and `neighbor_id`: we don't have a country with id 22\n",
    "\n",
    "In the next section, we will clean up the data.\n",
    "\n",
    "## Transforming Data\n",
    "\n",
    "> Currently, the pipeline capabilities are under construction. It's already possible to run `dataflows` spec as a pipeline, and more is coming but, for now, we will use Python programming for data cleaning.\n",
    "\n",
    "We will use metadata to fix all the data type problems automatically. The only two things we need to handle manually:\n",
    "- France's population\n",
    "- Germany's neighborhood"
   ]
  },
  {
   "cell_type": "code",
   "execution_count": 9,
   "metadata": {
    "execution": {
     "iopub.execute_input": "2020-12-02T10:42:25.354028Z",
     "iopub.status.busy": "2020-12-02T10:42:25.346212Z",
     "iopub.status.idle": "2020-12-02T10:42:25.360101Z",
     "shell.execute_reply": "2020-12-02T10:42:25.359047Z"
    }
   },
   "outputs": [],
   "source": [
    "from frictionless import Resource, Table\n",
    "\n",
    "def source():\n",
    "    resource = Resource(\"tmp/countries.resource.yaml\", basepath='.')\n",
    "    for row in resource.read_row_stream():\n",
    "        if row[\"name\"] == \"France\":\n",
    "            row[\"population\"] = 67\n",
    "        if row[\"name\"] == \"Germany\":\n",
    "            row[\"neighbor_id\"] = 2\n",
    "        if row[\"name\"]:\n",
    "            yield row\n",
    "\n",
    "with Table(source) as table:\n",
    "    table.write(\"tmp/countries-cleaned.csv\")"
   ]
  },
  {
   "cell_type": "markdown",
   "metadata": {},
   "source": [
    "Finally, we've got the cleaned version of our data, which can be exported to a database or published. We have used a CSV as an output format but could have used Excel, JSON, SQL, and others."
   ]
  },
  {
   "cell_type": "code",
   "execution_count": 10,
   "metadata": {
    "execution": {
     "iopub.execute_input": "2020-12-02T10:42:25.366296Z",
     "iopub.status.busy": "2020-12-02T10:42:25.365457Z",
     "iopub.status.idle": "2020-12-02T10:42:25.492087Z",
     "shell.execute_reply": "2020-12-02T10:42:25.490454Z"
    }
   },
   "outputs": [
    {
     "name": "stdout",
     "output_type": "stream",
     "text": [
      "id,neighbor_id,name,population\r",
      "\r\n",
      "1,,Britain,67\r",
      "\r\n",
      "2,3,France,67\r",
      "\r\n",
      "3,2,Germany,83\r",
      "\r\n",
      "4,,Italy,60\r",
      "\r\n"
     ]
    }
   ],
   "source": [
    "! cat tmp/countries-cleaned.csv"
   ]
  },
  {
   "cell_type": "markdown",
   "metadata": {},
   "source": [
    "We also need to update our metadata file:"
   ]
  },
  {
   "cell_type": "code",
   "execution_count": 11,
   "metadata": {
    "execution": {
     "iopub.execute_input": "2020-12-02T10:42:25.511552Z",
     "iopub.status.busy": "2020-12-02T10:42:25.507165Z",
     "iopub.status.idle": "2020-12-02T10:42:25.568714Z",
     "shell.execute_reply": "2020-12-02T10:42:25.567270Z"
    }
   },
   "outputs": [],
   "source": [
    "from frictionless import Resource, describe\n",
    "\n",
    "source = Resource(\"tmp/countries.resource.yaml\")\n",
    "target = describe(\"tmp/countries-cleaned.csv\")\n",
    "target.schema.foreign_keys = source.schema.foreign_keys\n",
    "target.to_yaml(\"tmp/countries-cleaned.resource.yaml\")"
   ]
  },
  {
   "cell_type": "markdown",
   "metadata": {},
   "source": [
    "After running this script our metadata will be:"
   ]
  },
  {
   "cell_type": "code",
   "execution_count": 12,
   "metadata": {
    "execution": {
     "iopub.execute_input": "2020-12-02T10:42:25.580029Z",
     "iopub.status.busy": "2020-12-02T10:42:25.578155Z",
     "iopub.status.idle": "2020-12-02T10:42:25.699784Z",
     "shell.execute_reply": "2020-12-02T10:42:25.701033Z"
    }
   },
   "outputs": [
    {
     "name": "stdout",
     "output_type": "stream",
     "text": [
      "compression: 'no'\r\n",
      "compressionPath: ''\r\n",
      "control:\r\n",
      "  newline: ''\r\n",
      "dialect: {}\r\n",
      "encoding: utf-8\r\n",
      "format: csv\r\n",
      "hashing: md5\r\n",
      "name: countries-cleaned\r\n",
      "path: tmp/countries-cleaned.csv\r\n",
      "profile: tabular-data-resource\r\n",
      "query: {}\r\n",
      "schema:\r\n",
      "  fields:\r\n",
      "    - name: id\r\n",
      "      type: integer\r\n",
      "    - name: neighbor_id\r\n",
      "      type: any\r\n",
      "    - name: name\r\n",
      "      type: string\r\n",
      "    - name: population\r\n",
      "      type: integer\r\n",
      "  foreignKeys:\r\n",
      "    - fields:\r\n",
      "        - neighbor_id\r\n",
      "      reference:\r\n",
      "        fields:\r\n",
      "          - id\r\n",
      "        resource: ''\r\n",
      "scheme: file\r\n",
      "stats:\r\n",
      "  bytes: 91\r\n",
      "  fields: 4\r\n",
      "  hash: d32b9e60ed03baae266b9ad5d3342252\r\n",
      "  rows: 4\r\n"
     ]
    }
   ],
   "source": [
    "! cat tmp/countries-cleaned.resource.yaml"
   ]
  },
  {
   "cell_type": "markdown",
   "metadata": {},
   "source": [
    "Basically, that's it; now, we have a valid data file and a corresponding metadata file. It can be shared with other people or stored without fear of type errors or other problems making data research not reproducible."
   ]
  },
  {
   "cell_type": "code",
   "execution_count": 13,
   "metadata": {
    "execution": {
     "iopub.execute_input": "2020-12-02T10:42:25.710476Z",
     "iopub.status.busy": "2020-12-02T10:42:25.709096Z",
     "iopub.status.idle": "2020-12-02T10:42:25.832597Z",
     "shell.execute_reply": "2020-12-02T10:42:25.834186Z"
    }
   },
   "outputs": [
    {
     "name": "stdout",
     "output_type": "stream",
     "text": [
      "-rw------- 1 roll roll  91 дек  2 11:42 tmp/countries-cleaned.csv\r\n",
      "-rw------- 1 roll roll 926 дек  2 11:41 tmp/country.resource.yaml\r\n"
     ]
    }
   ],
   "source": [
    "! ls -la tmp/countries-cleaned.csv tmp/country.resource.yaml"
   ]
  },
  {
   "cell_type": "markdown",
   "metadata": {},
   "source": [
    "In the next articles, we will explore more advanced Frictionless' functionality."
   ]
  }
 ],
 "metadata": {
  "language_info": {
   "codemirror_mode": {
    "name": "ipython",
    "version": 3
   },
   "file_extension": ".py",
   "mimetype": "text/x-python",
   "name": "python",
   "nbconvert_exporter": "python",
   "pygments_lexer": "ipython3",
   "version": "3.8.0"
  }
 },
 "nbformat": 4,
 "nbformat_minor": 4
}
